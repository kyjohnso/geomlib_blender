{
 "cells": [
  {
   "cell_type": "markdown",
   "id": "fc2c1009-fb85-4181-9f2a-16c5a01737fb",
   "metadata": {},
   "source": [
    "# "
   ]
  },
  {
   "cell_type": "code",
   "execution_count": 14,
   "id": "10300920-eea3-4479-82db-26a4d6153249",
   "metadata": {},
   "outputs": [],
   "source": [
    "import bpy\n",
    "import mathutils\n",
    "import numpy as np"
   ]
  },
  {
   "cell_type": "code",
   "execution_count": 15,
   "id": "a0c1728e-b9ba-474a-abf2-57bfc3d3dafe",
   "metadata": {},
   "outputs": [],
   "source": [
    "import geomlib_blender as gb"
   ]
  },
  {
   "cell_type": "code",
   "execution_count": 66,
   "id": "dc153ef7-c37f-4549-b329-a29fb727542b",
   "metadata": {},
   "outputs": [
    {
     "data": {
      "text/plain": [
       "array([42.37482672, 12.95495666,  3.49277044])"
      ]
     },
     "execution_count": 66,
     "metadata": {},
     "output_type": "execute_result"
    }
   ],
   "source": [
    "A = np.random.normal(0,20,(3,3))\n",
    "cov = np.matmul(A.T,A)\n",
    "np.sqrt(np.linalg.eig(cov)[0])"
   ]
  },
  {
   "cell_type": "code",
   "execution_count": 67,
   "id": "40006432-0c9f-4fcd-a784-78b159f7dc55",
   "metadata": {},
   "outputs": [],
   "source": [
    "# 3d ellipsoid\n",
    "val,vec = np.linalg.eig(cov)\n",
    "\n",
    "mat = np.eye(4)\n",
    "mat[:3,:3] = vec*np.sqrt(val[np.newaxis,:])\n",
    "mat = mathutils.Matrix(mat)\n",
    "\n",
    "bpy.ops.mesh.primitive_ico_sphere_add(\n",
    "    subdivisions=4,\n",
    "    radius=1,\n",
    "    enter_editmode=False,\n",
    "    align=\"WORLD\",\n",
    "    location=(0,0,0),\n",
    "    # scale=np.sqrt(val),\n",
    "    scale = (1,1,1),\n",
    ")\n",
    "bpy.context.object.matrix_world = mat"
   ]
  },
  {
   "cell_type": "code",
   "execution_count": 68,
   "id": "579f1ef3-88ee-46fe-800f-03790011b885",
   "metadata": {},
   "outputs": [],
   "source": [
    "# intersection with z=0 plane\n",
    "cov_inv = np.linalg.inv(cov)\n",
    "cov_sl = np.linalg.inv(cov_inv[:2,:2])\n",
    "\n",
    "val_sl,vec_sl = np.linalg.eig(cov_sl)\n",
    "\n",
    "mat_sl = np.eye(4)\n",
    "mat_sl[:2,:2] = vec_sl*np.sqrt(val_sl[np.newaxis,:])\n",
    "mat_sl = mathutils.Matrix(mat_sl)\n",
    "\n",
    "bpy.ops.mesh.primitive_circle_add(\n",
    "    enter_editmode=True,\n",
    "    align=\"WORLD\",\n",
    "    location=(0,0,0),\n",
    "    scale=(1,1,1),\n",
    ")\n",
    "bpy.ops.mesh.edge_face_add()\n",
    "bpy.ops.object.editmode_toggle()\n",
    "bpy.context.object.matrix_world = mat_sl"
   ]
  },
  {
   "cell_type": "code",
   "execution_count": 69,
   "id": "78a0db70-30c7-4d8d-a62a-30322bf5bf72",
   "metadata": {},
   "outputs": [],
   "source": [
    "# projection into z=0 plane\n",
    "val2,vec2 = np.linalg.eig(cov[:2,:2])\n",
    "\n",
    "mat2 = np.eye(4)\n",
    "mat2[:2,:2] = vec2*np.sqrt(val2[np.newaxis,:])\n",
    "mat2 = mathutils.Matrix(mat2)\n",
    "\n",
    "bpy.ops.mesh.primitive_circle_add(\n",
    "    enter_editmode=True,\n",
    "    align=\"WORLD\",\n",
    "    location=(0,0,0),\n",
    "    scale=(1,1,1),\n",
    ")\n",
    "bpy.ops.mesh.edge_face_add()\n",
    "bpy.ops.object.editmode_toggle()\n",
    "bpy.context.object.matrix_world = mat2"
   ]
  },
  {
   "cell_type": "code",
   "execution_count": null,
   "id": "788d44dd-ab6e-45b9-a5e7-a79fe32cf1e1",
   "metadata": {},
   "outputs": [],
   "source": []
  }
 ],
 "metadata": {
  "kernelspec": {
   "display_name": "blender",
   "language": "python",
   "name": "blender"
  },
  "language_info": {
   "codemirror_mode": {
    "name": "ipython",
    "version": 3
   },
   "file_extension": ".py",
   "mimetype": "text/x-python",
   "name": "python",
   "nbconvert_exporter": "python",
   "pygments_lexer": "ipython3",
   "version": "3.10.12"
  }
 },
 "nbformat": 4,
 "nbformat_minor": 5
}
