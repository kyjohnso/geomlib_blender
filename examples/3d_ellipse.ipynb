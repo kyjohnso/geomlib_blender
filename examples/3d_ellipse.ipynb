{
 "cells": [
  {
   "cell_type": "code",
   "execution_count": 1,
   "id": "10300920-eea3-4479-82db-26a4d6153249",
   "metadata": {},
   "outputs": [],
   "source": [
    "import bpy\n",
    "import mathutils\n",
    "import numpy as np\n",
    "import requests\n",
    "\n",
    "from IPython.core.display import HTML\n",
    "from IPython.display import IFrame\n",
    "import geomlib_blender as gb"
   ]
  },
  {
   "cell_type": "code",
   "execution_count": 2,
   "id": "dc153ef7-c37f-4549-b329-a29fb727542b",
   "metadata": {},
   "outputs": [
    {
     "data": {
      "text/plain": [
       "array([31.38362454,  7.80151758,  4.61812838])"
      ]
     },
     "execution_count": 2,
     "metadata": {},
     "output_type": "execute_result"
    }
   ],
   "source": [
    "A = np.random.normal(0,10,(3,3))\n",
    "cov = np.matmul(A.T,A)\n",
    "np.sqrt(np.linalg.eig(cov)[0])"
   ]
  },
  {
   "cell_type": "code",
   "execution_count": 3,
   "id": "7ddf5bf1-13db-493a-a0ee-f23310f6a773",
   "metadata": {},
   "outputs": [],
   "source": [
    "# create a 3d point cloud derived from the covariance matrix\n",
    "\n",
    "mesh = bpy.data.meshes.new(name=\"pointcloud\")\n",
    "obj = bpy.data.objects.new(\"pointcloud_obj\", mesh)\n",
    "bpy.context.collection.objects.link(obj)\n",
    "bpy.context.view_layer.objects.active = obj\n",
    "# bpy.ops.object.mode_set(mode='OBJECT')\n",
    "\n",
    "points = np.random.multivariate_normal(np.zeros(3),cov,(1_000_000,))\n",
    "mesh.from_pydata(points,[],[])"
   ]
  },
  {
   "cell_type": "code",
   "execution_count": 4,
   "id": "40006432-0c9f-4fcd-a784-78b159f7dc55",
   "metadata": {},
   "outputs": [],
   "source": [
    "# 3d ellipsoid\n",
    "val,vec = np.linalg.eig(cov)\n",
    "\n",
    "mat = np.eye(4)\n",
    "mat[:3,:3] = vec*np.sqrt(val[np.newaxis,:])\n",
    "mat = mathutils.Matrix(mat)\n",
    "\n",
    "bpy.ops.mesh.primitive_ico_sphere_add(\n",
    "    subdivisions=4,\n",
    "    radius=1,\n",
    "    enter_editmode=False,\n",
    "    align=\"WORLD\",\n",
    "    location=(0,0,0),\n",
    "    # scale=np.sqrt(val),\n",
    "    scale = (1,1,1),\n",
    ")\n",
    "bpy.context.object.matrix_world = mat"
   ]
  },
  {
   "cell_type": "markdown",
   "id": "fc3b83d7-d58a-41c2-8b84-7ed014863715",
   "metadata": {},
   "source": [
    "## Marginal"
   ]
  },
  {
   "cell_type": "code",
   "execution_count": 5,
   "id": "579f1ef3-88ee-46fe-800f-03790011b885",
   "metadata": {},
   "outputs": [],
   "source": [
    "cov_inv = np.linalg.inv(cov)\n",
    "cov_sl = np.linalg.inv(cov_inv[:2,:2])\n",
    "\n",
    "val_marg,vec_marg = np.linalg.eig(cov[:2,:2])\n",
    "\n",
    "mat_marg = np.eye(4)\n",
    "mat_marg[:2,:2] = vec_marg*np.sqrt(val_marg[np.newaxis,:])\n",
    "mat_marg = mathutils.Matrix(mat_marg)\n",
    "\n",
    "bpy.ops.mesh.primitive_circle_add(\n",
    "    enter_editmode=True,\n",
    "    align=\"WORLD\",\n",
    "    location=(0,0,0),\n",
    "    scale=(1,1,1),\n",
    ")\n",
    "bpy.ops.mesh.edge_face_add()\n",
    "bpy.ops.object.editmode_toggle()\n",
    "bpy.context.object.matrix_world = mat_marg"
   ]
  },
  {
   "cell_type": "markdown",
   "id": "58fb2f00-6912-4809-9877-cb66553d97db",
   "metadata": {},
   "source": [
    "### conditioned on z=const\n",
    "\n",
    "$$\\begin{bmatrix}x_A\\\\x_B\\end{bmatrix}\n",
    "\\sim\n",
    "\\mathcal{N}\n",
    "\\left(\n",
    "\\begin{bmatrix}\\mu_A\\\\\\mu_B\\end{bmatrix},\n",
    "\\begin{bmatrix}\\Sigma_{AA}&\\Sigma_{AB}\\\\\\Sigma_{BA}&\\Sigma_{BB}\\end{bmatrix}\n",
    "\\right)$$\n",
    "\n",
    "$$x_{A}|x_{B}\\sim\\mathcal{N}\\left(\\mu_{A}+\\Sigma_{AB}\\Sigma_{BB}^{-1}(x_B-\\mu_B),\\Sigma_{AA}-\\Sigma_{AB}\\Sigma_{BB}^{-1}\\Sigma_{BA}\\right)$$\n",
    "\n",
    "$$x_{B}|x_{A}\\sim\\mathcal{N}\\left(\\mu_{B}+\\Sigma_{BA}\\Sigma_{AA}^{-1}(x_A-\\mu_A),\\Sigma_{BB}-\\Sigma_{BA}\\Sigma_{AA}^{-1}\\Sigma_{AB}\\right)$$"
   ]
  },
  {
   "cell_type": "code",
   "execution_count": 6,
   "id": "78a0db70-30c7-4d8d-a62a-30322bf5bf72",
   "metadata": {},
   "outputs": [],
   "source": [
    "# conditional\n",
    "z = 0\n",
    "\n",
    "sigma_aa = cov[:2,:2]\n",
    "sigma_ab = cov[:2,2]\n",
    "sigma_ba = cov[2,:2]\n",
    "sigma_bb = cov[2,2]\n",
    "\n",
    "mu_a = sigma_ab*z/sigma_bb\n",
    "\n",
    "cov_aa = sigma_aa - np.outer(sigma_ab,sigma_ba)/sigma_bb\n",
    "\n",
    "val_sl,vec_sl = np.linalg.eig(cov_aa)\n",
    "\n",
    "mat_sl = np.eye(4)\n",
    "mat_sl[:2,:2] = vec_sl*np.sqrt(val_sl[np.newaxis,:])\n",
    "mat_sl[0:3,3] = np.concatenate([mu_a,[z]])\n",
    "# print(mat_sl)\n",
    "mat = mathutils.Matrix(mat_sl)\n",
    "# print(mat_sl)\n",
    "\n",
    "bpy.ops.mesh.primitive_circle_add(\n",
    "    enter_editmode=True,\n",
    "    align=\"WORLD\",\n",
    "    location=(0,0,0),\n",
    "    scale=(1,1,1),\n",
    ")\n",
    "bpy.ops.mesh.edge_face_add()\n",
    "bpy.ops.object.editmode_toggle()\n",
    "bpy.context.object.matrix_world = mat"
   ]
  },
  {
   "cell_type": "code",
   "execution_count": 7,
   "id": "3cf6fed6-0d34-499d-8e90-f2063c336174",
   "metadata": {},
   "outputs": [],
   "source": [
    "# create a 3d point cloud derived from the covariance matrix\n",
    "\n",
    "mesh = bpy.data.meshes.new(name=\"pointcloud\")\n",
    "obj = bpy.data.objects.new(\"pointcloud_obj\", mesh)\n",
    "bpy.context.collection.objects.link(obj)\n",
    "bpy.context.view_layer.objects.active = obj\n",
    "# bpy.ops.object.mode_set(mode='OBJECT')\n",
    "\n",
    "points = np.random.multivariate_normal(np.zeros(3),cov,(1_000_000,))\n",
    "mesh.from_pydata(points,[],[])"
   ]
  },
  {
   "cell_type": "code",
   "execution_count": 9,
   "id": "678bc39d-ed36-45f7-9a30-db714bd3987e",
   "metadata": {},
   "outputs": [
    {
     "name": "stdout",
     "output_type": "stream",
     "text": [
      "https://www.kyjohnso.com/?covariance=97.42534549438267&covariance=-3.907132583120889&covariance=-220.52709854322057&covariance=-3.907132583120889&covariance=44.05282499627074&covariance=-65.97357928422994&covariance=-220.52709854322057&covariance=-65.97357928422994&covariance=925.6445052075217\n"
     ]
    },
    {
     "data": {
      "text/html": [
       "\n",
       "        <iframe\n",
       "            width=\"800\"\n",
       "            height=\"600\"\n",
       "            src=\"https://www.kyjohnso.com/?covariance=97.42534549438267&covariance=-3.907132583120889&covariance=-220.52709854322057&covariance=-3.907132583120889&covariance=44.05282499627074&covariance=-65.97357928422994&covariance=-220.52709854322057&covariance=-65.97357928422994&covariance=925.6445052075217\"\n",
       "            frameborder=\"0\"\n",
       "            allowfullscreen\n",
       "            \n",
       "        ></iframe>\n",
       "        "
      ],
      "text/plain": [
       "<IPython.lib.display.IFrame at 0x7fdc2c69ded0>"
      ]
     },
     "metadata": {},
     "output_type": "display_data"
    }
   ],
   "source": [
    "req = requests.get(\n",
    "    \"https://kyjohnso.com\",\n",
    "    params={\n",
    "        \"covariance\":cov.tolist(),\n",
    "    }\n",
    ")\n",
    "\n",
    "print(req.url)\n",
    "# iframe_html = '<iframe src=\"{}\" width=\"800\" height=\"600\"></iframe>'.format(req.url)\n",
    "display(IFrame(req.url,800,600))"
   ]
  },
  {
   "cell_type": "code",
   "execution_count": null,
   "id": "c3057c36-b130-4a99-858f-ea6a2c228d82",
   "metadata": {},
   "outputs": [],
   "source": []
  },
  {
   "cell_type": "code",
   "execution_count": null,
   "id": "49559a30-b25d-41dd-9db0-4256e53dc3da",
   "metadata": {},
   "outputs": [],
   "source": []
  }
 ],
 "metadata": {
  "kernelspec": {
   "display_name": "blender",
   "language": "python",
   "name": "blender"
  },
  "language_info": {
   "codemirror_mode": {
    "name": "ipython",
    "version": 3
   },
   "file_extension": ".py",
   "mimetype": "text/x-python",
   "name": "python",
   "nbconvert_exporter": "python",
   "pygments_lexer": "ipython3",
   "version": "3.10.13"
  }
 },
 "nbformat": 4,
 "nbformat_minor": 5
}
